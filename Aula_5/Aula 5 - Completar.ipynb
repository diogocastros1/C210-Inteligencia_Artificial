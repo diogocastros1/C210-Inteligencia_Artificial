{
 "cells": [
  {
   "cell_type": "markdown",
   "metadata": {},
   "source": [
    "# Busca Cega\n",
    "\n",
    "Abordagem de busca que não considera nenhuma informação sobre qual sucessor é mais promissor para atingir uma meta (objetivo)\n",
    "###### Passos\n",
    "- Formular objetivo\n",
    "- Formular a busca\n",
    "- Executar"
   ]
  },
  {
   "cell_type": "markdown",
   "metadata": {},
   "source": [
    "### Modelando o problema\n",
    "- Sliding Puzzle\n",
    "<img src=\"images/sliding_puzzle.gif\" width=\"250\" align=\"center\">"
   ]
  },
  {
   "cell_type": "code",
   "execution_count": null,
   "metadata": {},
   "outputs": [],
   "source": [
    "import numpy as np\n",
    "\n",
    "class SlidingPuzzle():\n",
    "    def __init__(self, num_blocos):\n",
    "        '''\n",
    "        Construtor\n",
    "        Args:\n",
    "            - num_blocos: numero de blocos por linha e coluna, valor inteiro (Ex: 3 significa 3 linhas e 3 colunas)\n",
    "        '''\n",
    "        \n",
    "\n",
    "    def _encontra_posicao(self, estado, elemento):\n",
    "        '''\n",
    "        Varre todo o tabuleiro (estado) e verifica em qual posição 'elemento' está\n",
    "        Args:\n",
    "            - estado: matriz contendo o estado do tabuleiro\n",
    "            - elemento: elemento a ser buscado na matriz\n",
    "        Return:\n",
    "            - Retorna a linha e coluna onde o elemento se encontra\n",
    "        '''\n",
    "        \n",
    "    def verifica_estados(self, atual, objetivo):\n",
    "        '''\n",
    "        Verifica se dois estados são iguais\n",
    "        Args:\n",
    "            - atual: matriz que descreve o estado atual\n",
    "            - objetivo: matriz que descreve o estado objetivo\n",
    "        Return:\n",
    "            - booleano dizendo se o estado atual é ou não o objetivo\n",
    "        '''\n",
    "        \n",
    "\n",
    "    def expande_estados(self, atual):\n",
    "        '''\n",
    "        Dado o estado atual, realiza a expansão de estados\n",
    "        Args:\n",
    "            - atual: matriz que descreve o estado atual\n",
    "        Return:\n",
    "            - lista com os novos estados após a expansão\n",
    "        '''\n",
    "        \n",
    "       \n",
    "\n",
    "        # Cima\n",
    "      \n",
    "\n",
    "        # Baixo\n",
    "       \n",
    "\n",
    "\n",
    "        # Esquerda\n",
    "        \n",
    "\n",
    "        # Direita\n",
    "      \n"
   ]
  },
  {
   "cell_type": "markdown",
   "metadata": {},
   "source": [
    "### Formulando Busca"
   ]
  },
  {
   "cell_type": "markdown",
   "metadata": {},
   "source": [
    "#### Busca em largura (BrFS– Breadth-first search)\n",
    "\n",
    "Realiza a busca em nível. Imagine uma árvore de estados, nela a busca é realizada sequencialmente em cada nó do mesmo nível\n",
    "\n",
    "<img src=\"images/bfs.gif\" width=\"250\" align=\"center\">"
   ]
  },
  {
   "cell_type": "code",
   "execution_count": null,
   "metadata": {},
   "outputs": [],
   "source": [
    "from queue import Queue\n",
    "\n",
    "class BreadthFirstSearch():\n",
    "    def __init__(self, problema):\n",
    "        '''\n",
    "        Construtor\n",
    "        Args:\n",
    "            - problema: objeto do problema a ser solucionado\n",
    "        '''\n",
    "     \n",
    "        \n",
    "    def _verifica_visitado(self, estado, estados_visitados):\n",
    "        '''\n",
    "        Verifica se 'estado' está na lista de estados visitados\n",
    "        Args:\n",
    "            - estado: estado qualquer do tabuleiro\n",
    "            - estados_visitados: lista com todos os estados já visitados\n",
    "        Return:\n",
    "            - booleano dizendo se o estado foi visitado ou não\n",
    "        '''\n",
    "        \n",
    "    \n",
    "    def busca(self, inicio, fim):\n",
    "        '''\n",
    "        Realiza a busca BFS, armazenando os estados em uma FILA\n",
    "        Args:\n",
    "            - inicio: estado inicial do problema\n",
    "            - fim: estado objetivo\n",
    "        Return:\n",
    "            - booleano se a solução foi encontrada, lista dos estados visitados, quantidade de estados visitados\n",
    "        '''\n",
    "        "
   ]
  },
  {
   "cell_type": "markdown",
   "metadata": {},
   "source": [
    "#### Busca em profundidade (DFS – Depth-first search)\n",
    "\n",
    "Realiza a busca por ramo. Imagine uma árvore de estados, nela a busca é realizada sequencialmente em cada ramo, e só após completá-lo, busca no ramo vizinho.\n",
    "\n",
    "<img src=\"images/dfs.gif\" width=\"250\" align=\"center\">"
   ]
  },
  {
   "cell_type": "code",
   "execution_count": null,
   "metadata": {},
   "outputs": [],
   "source": [
    "from queue import LifoQueue\n",
    "\n",
    "class DepthFirstSearch():\n",
    "    def __init__(self, problema):\n",
    "        '''\n",
    "        Construtor\n",
    "        Args:\n",
    "            - problema: objeto do problema a ser solucionado\n",
    "        '''\n",
    "        \n",
    "        \n",
    "    def _verifica_visitado(self, estado, estados_visitados):\n",
    "        '''\n",
    "        Verifica se 'estado' está na lista de estados visitados\n",
    "        Args:\n",
    "            - estado: estado qualquer do tabuleiro\n",
    "            - estados_visitados: lista com todos os estados já visitados\n",
    "        Return:\n",
    "            - booleano dizendo se o estado foi visitado ou não\n",
    "        '''\n",
    "        \n",
    "    \n",
    "    def busca(self, inicio, fim):\n",
    "        '''\n",
    "        Realiza a busca DFS, armazenando os estados em uma PILHA\n",
    "        Args:\n",
    "            - inicio: estado inicial do problema\n",
    "            - fim: estado objetivo\n",
    "        Return:\n",
    "            - booleano se a solução foi encontrada, lista dos estados visitados, quantidade de estados visitados\n",
    "        '''\n",
    "        "
   ]
  },
  {
   "cell_type": "markdown",
   "metadata": {},
   "source": [
    "### Executando"
   ]
  },
  {
   "cell_type": "code",
   "execution_count": null,
   "metadata": {},
   "outputs": [],
   "source": [
    "# Criando objeto do problema\n",
    "problema = SlidingPuzzle(3)\n",
    "\n",
    "# Criando Matriz inicial e matriz alvo\n",
    "start = np.matrix([[1,0,2],[8,4,3],[7,6,5]])\n",
    "target = np.matrix([[1,2,3],[8,0,4],[7,6,5]])\n",
    "\n",
    "# Mostrando informações iniciais\n",
    "print(f\"Initial state: \\n{start}\")\n",
    "print(\"*\"*15)\n",
    "print(f\"Target state: \\n{target}\")\n",
    "print(\"*\"*15)"
   ]
  },
  {
   "cell_type": "code",
   "execution_count": null,
   "metadata": {},
   "outputs": [],
   "source": [
    "# Execução do BFS\n",
    "bfs = BreadthFirstSearch(problema)\n",
    "\n",
    "bfs_solucao, bfs_estados_visitados, bfs_num_visitados = bfs.busca(start, target) # chamando busca\n",
    "\n",
    "if bfs_solucao:\n",
    "    print(f\"Solution found!!!\")\n",
    "else:\n",
    "    print(\"Solution not found!!!\")"
   ]
  },
  {
   "cell_type": "code",
   "execution_count": null,
   "metadata": {},
   "outputs": [],
   "source": [
    "# Execução do DFS\n",
    "dfs = DepthFirstSearch(problema)\n",
    "\n",
    "dfs_solucao, dfs_estados_visitados, dfs_num_visitados = dfs.busca(start, target) # chamando busca\n",
    "\n",
    "if dfs_solucao:\n",
    "    print(f\"Solution found!!!\")\n",
    "else:\n",
    "    print(\"Solution not found!!!\")"
   ]
  },
  {
   "cell_type": "code",
   "execution_count": null,
   "metadata": {},
   "outputs": [],
   "source": [
    "# Apresentando resultados\n",
    "print(\"==== BFS ====\")\n",
    "print(f\"Solução encontrada? {bfs_solucao}\")\n",
    "print(f\"Número de estados visitados: {bfs_num_visitados}\")\n",
    "\n",
    "print(\"==== DFS ====\")\n",
    "print(f\"Solução encontrada? {dfs_solucao}\")\n",
    "print(f\"Número de estados visitados: {dfs_num_visitados}\")"
   ]
  }
 ],
 "metadata": {
  "kernelspec": {
   "display_name": "Python 3 (ipykernel)",
   "language": "python",
   "name": "python3"
  },
  "language_info": {
   "codemirror_mode": {
    "name": "ipython",
    "version": 3
   },
   "file_extension": ".py",
   "mimetype": "text/x-python",
   "name": "python",
   "nbconvert_exporter": "python",
   "pygments_lexer": "ipython3",
   "version": "3.9.13"
  }
 },
 "nbformat": 4,
 "nbformat_minor": 4
}
