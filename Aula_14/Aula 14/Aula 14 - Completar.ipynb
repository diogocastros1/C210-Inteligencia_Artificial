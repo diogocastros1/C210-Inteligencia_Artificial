{
 "cells": [
  {
   "cell_type": "markdown",
   "id": "8ffa7126",
   "metadata": {},
   "source": [
    "# Redes Perceptron de Múltiplas Camadas"
   ]
  },
  {
   "cell_type": "markdown",
   "id": "1177d240",
   "metadata": {},
   "source": [
    "* Rede feed-forward\n",
    "* Treinamento Supervisionado\n",
    "* Algoritmo Backpropagation"
   ]
  },
  {
   "cell_type": "markdown",
   "id": "a9cbe07b",
   "metadata": {},
   "source": [
    "## Modelo de rede"
   ]
  },
  {
   "cell_type": "markdown",
   "id": "da56c91d",
   "metadata": {},
   "source": [
    "<img src=\"rede.jpg\" style=width:500px;height:400px/>"
   ]
  },
  {
   "cell_type": "code",
   "execution_count": 1,
   "id": "6fc0b597",
   "metadata": {},
   "outputs": [
    {
     "data": {
      "image/png": "[encoded data removed]",
      "text/plain": [
       "<Figure size 432x288 with 1 Axes>"
      ]
     },
     "metadata": {
      "needs_background": "light"
     },
     "output_type": "display_data"
    }
   ],
   "source": [
    "import numpy as np\n",
    "import matplotlib.pyplot as plt\n",
    "import math\n",
    "\n",
    "import numpy as np\n",
    "import matplotlib.pyplot as plt\n",
    "\n",
    "# Dataset\n",
    "x = np.array([[5.7, 7.5], [9.3, 5.6], [8.8, 6.9], [6.8, 9.2], [7.9, 9.1],\n",
    "              [8.8, 5.6], [5.6, 7.8], [8.8, 9.0], [7.6, 5.9], [4.9, 8.1],\n",
    "              [6.6, 4.5], [5.2, 7.2], [1.2, 1.2], [2.4, 1.6], [4.7, 2.5],\n",
    "              [0.9, 3.1], [2.6, 4.1], [1.8, 2.0], [4.1, 2.8], [1.8, 1.6],\n",
    "              [1.9, 3.1], [0.8, 3.2], [1.8, 2.9], [3.3, 1.6], [3.7, 2.5]\n",
    "             ])\n",
    "\n",
    "d = np.array([[1],[1],[1],[1],[1],[1],[1],[1],[1],[1],[1],[1],[0],\n",
    "              [0],[0],[0],[0],[0],[0],[0],[0],[0],[0],[0],[0]])\n",
    "\n",
    "shuffle = np.random.permutation(len(x))\n",
    "x = x[shuffle]\n",
    "d = d[shuffle]\n",
    "\n",
    "plt.figure(figsize=(6,4))\n",
    "plt.title(\"Data points\")\n",
    "plt.scatter(x[:, 0], x[:, 1], c = d, cmap = 'bwr')\n",
    "plt.show()"
   ]
  },
  {
   "cell_type": "code",
   "execution_count": null,
   "id": "a29fb994",
   "metadata": {},
   "outputs": [],
   "source": [
    "class MLP():\n",
    "    \n",
    "    def __init__(self, lr, e, neurons):\n",
    "        \"\"\" Construtor \"\"\"\n",
    "        # Taxa de aprendizado \n",
    "        \n",
    "        \n",
    "        # tolerância\n",
    "        \n",
    "        \n",
    "        # Quantidade de neurônios por camadas\n",
    "       \n",
    "        \n",
    "        \n",
    "    def sigmoid(self, valor):\n",
    "        '''Calcula a sigmoid de um valor'''\n",
    "        \n",
    "\n",
    "    def sigmoid_deriv(self, valor):\n",
    "        '''Calcula a derivada da função sigmoid'''\n",
    "        \n",
    "        \n",
    "\n",
    "    def activate(self, valor):\n",
    "        '''Ativa as saídas do neurônio'''\n",
    "        \n",
    "    \n",
    "    def deriv(self, valor):\n",
    "        '''Calcular a derivada da função de ativação'''\n",
    "        \n",
    "\n",
    "    def evaluate(self, target, predicted):\n",
    "        '''Calcula a diferença entre o valor real e o valor predito'''\n",
    "        \n",
    "\n",
    "    def predict(self, input_data, weights):\n",
    "        '''Calcula a soma ponderada das entradas pelo peso'''\n",
    "        \n",
    "    \n",
    "    def train(self, x, d):\n",
    "        ''' \n",
    "        Definir aleatoriamente os pesos, o bias e o peso do bias\n",
    "        Enquanto a diferença entre m mse_anterior e o mse_atual for maior que 'e' continua o processo \n",
    "        '''\n",
    "       \n",
    "            print(f\"EPOCH: {epoch} - MSE: {mse} - |mse_ant - mse|: {abs(last_mse - mse)}\")\n",
    "           \n",
    "        \n",
    "        \n",
    "        \n",
    "    def test(self, x):\n",
    "        ''' Dado uma lista de X, submete-os à rede'''\n",
    "       \n",
    "            \n",
    "    "
   ]
  },
  {
   "cell_type": "code",
   "execution_count": null,
   "id": "0beaddbc",
   "metadata": {},
   "outputs": [],
   "source": [
    "# Instanciando a rede e treinando-a"
   ]
  },
  {
   "cell_type": "code",
   "execution_count": null,
   "id": "68891f8c",
   "metadata": {},
   "outputs": [],
   "source": [
    "# Testando os novos valores de pontos\n",
    "x_teste = np.array([[6, 2], [9, 3], [5, 6], [7, 3], [6, 7], [1, 6]])"
   ]
  },
  {
   "cell_type": "code",
   "execution_count": null,
   "id": "dce9997b",
   "metadata": {},
   "outputs": [],
   "source": [
    "plt.figure(figsize=(12,8))\n",
    "plt.title(\"Data points + Predicted\")\n",
    "plt.scatter(x[:, 0], x[:, 1], c = d, cmap = 'bwr')\n",
    "plt.scatter(x_teste[:, 0], x_teste[:, 1], c = teste_resultado, cmap = 'bwr', marker = \"*\", s=250)\n",
    "plt.show()"
   ]
  }
 ],
 "metadata": {
  "kernelspec": {
   "display_name": "Python 3 (ipykernel)",
   "language": "python",
   "name": "python3"
  },
  "language_info": {
   "codemirror_mode": {
    "name": "ipython",
    "version": 3
   },
   "file_extension": ".py",
   "mimetype": "text/x-python",
   "name": "python",
   "nbconvert_exporter": "python",
   "pygments_lexer": "ipython3",
   "version": "3.9.1"
  }
 },
 "nbformat": 4,
 "nbformat_minor": 5
}
