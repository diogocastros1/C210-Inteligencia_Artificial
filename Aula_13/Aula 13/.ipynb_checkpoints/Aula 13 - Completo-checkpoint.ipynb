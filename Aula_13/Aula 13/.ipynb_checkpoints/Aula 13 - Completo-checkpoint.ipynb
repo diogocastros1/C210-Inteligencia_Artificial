{
 "cells": [
  {
   "cell_type": "markdown",
   "id": "d16fd430",
   "metadata": {},
   "source": [
    "# Redes Adaline"
   ]
  },
  {
   "cell_type": "markdown",
   "id": "aaef9230",
   "metadata": {},
   "source": [
    "* Rede feed-forward\n",
    "* Treinamento Supervisionado\n",
    "* Minimizar o erro quadrático de todo o conjunto de amostras\n",
    "* Vetor gradiente -> aponta para o crescimento da função\n",
    "* Regra delta: o ajuste nos pesos deve se dar no sentido contrário do gradiente"
   ]
  },
  {
   "cell_type": "markdown",
   "id": "9f4ee1b2",
   "metadata": {},
   "source": [
    "## Modelo de neurônio"
   ]
  },
  {
   "cell_type": "markdown",
   "id": "ed120293",
   "metadata": {},
   "source": [
    "<img src=\"neuronio.jpg\" style=width:500px;height:400px/>"
   ]
  },
  {
   "cell_type": "markdown",
   "id": "25eafcfb",
   "metadata": {},
   "source": [
    "## Função de Ativação"
   ]
  },
  {
   "cell_type": "markdown",
   "id": "7c5450a5",
   "metadata": {},
   "source": [
    "<img src=\"limiar.jpg\" style=width:500px;height:400px/>"
   ]
  },
  {
   "cell_type": "code",
   "execution_count": 8,
   "id": "7e4d75a4",
   "metadata": {},
   "outputs": [
    {
     "data": {
      "image/png": "[encoded data removed]",
      "text/plain": [
       "<Figure size 432x288 with 1 Axes>"
      ]
     },
     "metadata": {
      "needs_background": "light"
     },
     "output_type": "display_data"
    }
   ],
   "source": [
    "import numpy as np\n",
    "import matplotlib.pyplot as plt\n",
    "\n",
    "# Dataset\n",
    "x = np.array([[5.7, 7.5], [9.3, 5.6], [8.8, 6.9], [6.8, 9.2], [7.9, 9.1],\n",
    "              [8.8, 5.6], [5.6, 7.8], [8.8, 9.0], [7.6, 5.9], [4.9, 8.1],\n",
    "              [6.6, 4.5], [5.2, 7.2], [1.2, 1.2], [2.4, 1.6], [4.7, 2.5],\n",
    "              [0.9, 3.1], [2.6, 4.1], [1.8, 2.0], [4.1, 2.8], [1.8, 1.6],\n",
    "              [1.9, 3.1], [0.8, 3.2], [1.8, 2.9], [3.3, 1.6], [3.7, 2.5]\n",
    "             ])\n",
    "\n",
    "d = np.array([-1, -1, -1, -1, -1, -1, -1, -1, -1, -1, -1, -1, 1, 1, 1, 1, 1, 1, 1, 1, 1, 1, 1, 1, 1])\n",
    "\n",
    "\n",
    "plt.figure(figsize=(6,4))\n",
    "plt.title(\"Data points\")\n",
    "plt.scatter(x[:, 0], x[:, 1], c = d, cmap = 'bwr')\n",
    "plt.show()"
   ]
  },
  {
   "cell_type": "code",
   "execution_count": 9,
   "id": "41df2af8",
   "metadata": {},
   "outputs": [],
   "source": [
    "#CRIANDO A CLASSE DA REDE ADALINE\n",
    "class Adaline:\n",
    "    \n",
    "    def __init__(self, lr, e):\n",
    "        '''Construtor, define taxa de aprendizado e a taxa de erro aceita para convergir'''\n",
    "        self.lr = lr\n",
    "        self.e = e\n",
    "        \n",
    "    def activation(self, value):\n",
    "        ''' 1 se value > 0, -1 senão'''\n",
    "        return (1 if value >= 0 else -1)\n",
    "        \n",
    "    def predict(self, x):\n",
    "        ''' Multiplicação matricial entre as entradas e os pesos somado ao bias proporcional'''\n",
    "        return np.dot(x, self.weights.T) + self.bias * self.w_bias\n",
    "    \n",
    "    def evaluate(self, target, predicted):\n",
    "        ''' Calcula a diferença entre o valor real e o valor predito'''\n",
    "        return (target - predicted)\n",
    "    \n",
    "    def train(self, x, d):\n",
    "        ''' Definir aleatoriamente os pesos, o bias e o peso do bias\n",
    "            Enquanto a diferença entre m mse_anterior e o mse_atual for maior que 'e' continua o processo \n",
    "        '''\n",
    "        self.weights = np.random.random(x.shape[1])\n",
    "        self.bias = -1\n",
    "        self.w_bias = np.random.random()\n",
    "        \n",
    "        epoch = 0\n",
    "        self.total_mse = []\n",
    "        last_mse = np.inf\n",
    "        \n",
    "        \n",
    "        while True:\n",
    "            mse = 0\n",
    "            # Para cada amostra\n",
    "            for xi, target in zip(x, d):\n",
    "                \n",
    "                predicted = self.predict(xi)  \n",
    "                current_error = self.evaluate(target, predicted)\n",
    "                mse += (current_error ** 2)\n",
    "                self.weights += self.lr * current_error * xi\n",
    "                self.w_bias += self.lr * current_error * self.bias\n",
    "                \n",
    "            mse = (mse/len(x))\n",
    "            print(f\"EPOCH: {epoch}\\t- MSE: {mse}\\t- MSE_ant - MSE: {abs(last_mse - mse)}\")\n",
    "            if abs(last_mse - mse) <= self.e:\n",
    "                break\n",
    "            \n",
    "            self.total_mse.append(mse)\n",
    "            last_mse = mse\n",
    "            epoch +=1\n",
    "            \n",
    "    def test(self, x):\n",
    "        ''' Dado uma lista de X, submete-os à rede'''\n",
    "        results = []\n",
    "        for xi in x:\n",
    "            predict = self.predict(xi)\n",
    "            predict = self.activation(predict)\n",
    "            results.append(predict)\n",
    "            \n",
    "        return results"
   ]
  },
  {
   "cell_type": "code",
   "execution_count": 37,
   "id": "d2354702",
   "metadata": {},
   "outputs": [
    {
     "name": "stdout",
     "output_type": "stream",
     "text": [
      "EPOCH: 0\t- MSE: 3.518172612463356\t- MSE_ant - MSE: inf\n",
      "EPOCH: 1\t- MSE: 1.0541494392553705\t- MSE_ant - MSE: 2.4640231732079854\n",
      "EPOCH: 2\t- MSE: 0.98265891223669\t- MSE_ant - MSE: 0.07149052701868053\n",
      "EPOCH: 3\t- MSE: 0.9262048185722049\t- MSE_ant - MSE: 0.05645409366448506\n",
      "EPOCH: 4\t- MSE: 0.8767605817919732\t- MSE_ant - MSE: 0.04944423678023169\n",
      "EPOCH: 5\t- MSE: 0.8315272178733969\t- MSE_ant - MSE: 0.04523336391857635\n",
      "EPOCH: 6\t- MSE: 0.7894652202159531\t- MSE_ant - MSE: 0.042061997657443784\n",
      "EPOCH: 7\t- MSE: 0.7501283432215547\t- MSE_ant - MSE: 0.03933687699439836\n",
      "EPOCH: 8\t- MSE: 0.7132721876661512\t- MSE_ant - MSE: 0.03685615555540356\n",
      "EPOCH: 9\t- MSE: 0.6787233695871465\t- MSE_ant - MSE: 0.03454881807900467\n",
      "EPOCH: 10\t- MSE: 0.6463361239657612\t- MSE_ant - MSE: 0.032387245621385286\n",
      "EPOCH: 11\t- MSE: 0.6159780815157567\t- MSE_ant - MSE: 0.030358042450004508\n",
      "EPOCH: 12\t- MSE: 0.5875256603264811\t- MSE_ant - MSE: 0.0284524211892756\n",
      "EPOCH: 13\t- MSE: 0.5608625455110993\t- MSE_ant - MSE: 0.02666311481538186\n",
      "EPOCH: 14\t- MSE: 0.5358791080993939\t- MSE_ant - MSE: 0.02498343741170539\n",
      "EPOCH: 15\t- MSE: 0.5124720766866236\t- MSE_ant - MSE: 0.02340703141277023\n",
      "EPOCH: 16\t- MSE: 0.4905442570162548\t- MSE_ant - MSE: 0.02192781967036883\n",
      "EPOCH: 17\t- MSE: 0.470004248418222\t- MSE_ant - MSE: 0.02054000859803279\n",
      "EPOCH: 18\t- MSE: 0.450766151616116\t- MSE_ant - MSE: 0.01923809680210603\n",
      "EPOCH: 19\t- MSE: 0.43274927346362885\t- MSE_ant - MSE: 0.018016878152487148\n",
      "EPOCH: 20\t- MSE: 0.4158778349924038\t- MSE_ant - MSE: 0.01687143847122502\n",
      "EPOCH: 21\t- MSE: 0.4000806875307561\t- MSE_ant - MSE: 0.01579714746164773\n",
      "EPOCH: 22\t- MSE: 0.3852910398890586\t- MSE_ant - MSE: 0.01478964764169749\n",
      "EPOCH: 23\t- MSE: 0.3714461982497507\t- MSE_ant - MSE: 0.013844841639307881\n",
      "EPOCH: 24\t- MSE: 0.35848731947377205\t- MSE_ant - MSE: 0.012958878775978677\n",
      "EPOCH: 25\t- MSE: 0.3463591779431859\t- MSE_ant - MSE: 0.012128141530586167\n",
      "EPOCH: 26\t- MSE: 0.33500994569922304\t- MSE_ant - MSE: 0.011349232243962837\n",
      "EPOCH: 27\t- MSE: 0.324390985426474\t- MSE_ant - MSE: 0.010618960272749056\n",
      "EPOCH: 28\t- MSE: 0.31445665572201026\t- MSE_ant - MSE: 0.009934329704463729\n",
      "EPOCH: 29\t- MSE: 0.3051641280362371\t- MSE_ant - MSE: 0.009292527685773155\n",
      "EPOCH: 30\t- MSE: 0.2964732146566573\t- MSE_ant - MSE: 0.008690913379579779\n",
      "EPOCH: 31\t- MSE: 0.28834620711164133\t- MSE_ant - MSE: 0.008127007545015996\n",
      "EPOCH: 32\t- MSE: 0.28074772438953255\t- MSE_ant - MSE: 0.007598482722108779\n",
      "EPOCH: 33\t- MSE: 0.2736445703932744\t- MSE_ant - MSE: 0.00710315399625816\n",
      "EPOCH: 34\t- MSE: 0.26700560007882557\t- MSE_ant - MSE: 0.006638970314448822\n",
      "EPOCH: 35\t- MSE: 0.2608015937548631\t- MSE_ant - MSE: 0.006204006323962452\n",
      "EPOCH: 36\t- MSE: 0.25500513905046446\t- MSE_ant - MSE: 0.005796454704398657\n",
      "EPOCH: 37\t- MSE: 0.2495905200859144\t- MSE_ant - MSE: 0.005414618964550061\n",
      "EPOCH: 38\t- MSE: 0.24453361340914134\t- MSE_ant - MSE: 0.005056906676773054\n",
      "EPOCH: 39\t- MSE: 0.23981179028635707\t- MSE_ant - MSE: 0.004721823122784269\n",
      "EPOCH: 40\t- MSE: 0.23540382496017784\t- MSE_ant - MSE: 0.004407965326179236\n",
      "EPOCH: 41\t- MSE: 0.23128980851185388\t- MSE_ant - MSE: 0.004114016448323959\n",
      "EPOCH: 42\t- MSE: 0.22745106798622708\t- MSE_ant - MSE: 0.0038387405256267992\n",
      "EPOCH: 43\t- MSE: 0.22387009045875378\t- MSE_ant - MSE: 0.0035809775274733002\n",
      "EPOCH: 44\t- MSE: 0.2205304517434028\t- MSE_ant - MSE: 0.0033396387153509788\n",
      "EPOCH: 45\t- MSE: 0.21741674945855924\t- MSE_ant - MSE: 0.0031137022848435614\n",
      "EPOCH: 46\t- MSE: 0.214514540185258\t- MSE_ant - MSE: 0.0029022092733012317\n",
      "EPOCH: 47\t- MSE: 0.21181028046825312\t- MSE_ant - MSE: 0.0027042597170048865\n",
      "EPOCH: 48\t- MSE: 0.2092912714256002\t- MSE_ant - MSE: 0.0025190090426529255\n",
      "EPOCH: 49\t- MSE: 0.20694560674670442\t- MSE_ant - MSE: 0.0023456646788957702\n",
      "EPOCH: 50\t- MSE: 0.20476212387217868\t- MSE_ant - MSE: 0.002183482874525744\n",
      "EPOCH: 51\t- MSE: 0.20273035816144114\t- MSE_ant - MSE: 0.002031765710737543\n",
      "EPOCH: 52\t- MSE: 0.20084049986579763\t- MSE_ant - MSE: 0.001889858295643504\n",
      "EPOCH: 53\t- MSE: 0.19908335373585792\t- MSE_ant - MSE: 0.0017571461299397129\n",
      "EPOCH: 54\t- MSE: 0.19745030110255102\t- MSE_ant - MSE: 0.0016330526333069029\n",
      "EPOCH: 55\t- MSE: 0.19593326428080385\t- MSE_ant - MSE: 0.0015170368217471697\n",
      "EPOCH: 56\t- MSE: 0.19452467315413263\t- MSE_ant - MSE: 0.0014085911266712159\n",
      "EPOCH: 57\t- MSE: 0.19321743380703515\t- MSE_ant - MSE: 0.0013072393470974775\n",
      "EPOCH: 58\t- MSE: 0.19200489908018312\t- MSE_ant - MSE: 0.0012125347268520381\n",
      "EPOCH: 59\t- MSE: 0.19088084093102167\t- MSE_ant - MSE: 0.0011240581491614443\n",
      "EPOCH: 60\t- MSE: 0.1898394244895466\t- MSE_ant - MSE: 0.0010414164414750682\n",
      "EPOCH: 61\t- MSE: 0.1888751837057317\t- MSE_ant - MSE: 0.000964240783814907\n",
      "EPOCH: 62\t- MSE: 0.18798299849140346\t- MSE_ant - MSE: 0.0008921852143282394\n",
      "EPOCH: 63\t- MSE: 0.18715807326526945\t- MSE_ant - MSE: 0.0008249252261340045\n",
      "EPOCH: 64\t- MSE: 0.18639591681537782\t- MSE_ant - MSE: 0.0007621564498916378\n",
      "EPOCH: 65\t- MSE: 0.18569232339851088\t- MSE_ant - MSE: 0.0007035934168669322\n",
      "EPOCH: 66\t- MSE: 0.18504335500091543\t- MSE_ant - MSE: 0.0006489683975954563\n",
      "EPOCH: 67\t- MSE: 0.1844453246893907\t- MSE_ant - MSE: 0.0005980303115247221\n",
      "EPOCH: 68\t- MSE: 0.18389478098606987\t- MSE_ant - MSE: 0.0005505437033208327\n",
      "EPOCH: 69\t- MSE: 0.18338849320430836\t- MSE_ant - MSE: 0.0005062877817615108\n",
      "EPOCH: 70\t- MSE: 0.18292343768689714\t- MSE_ant - MSE: 0.000465055517411217\n",
      "EPOCH: 71\t- MSE: 0.1824967848914103\t- MSE_ant - MSE: 0.00042665279548684265\n",
      "EPOCH: 72\t- MSE: 0.1821058872708593\t- MSE_ant - MSE: 0.00039089762055100064\n",
      "EPOCH: 73\t- MSE: 0.18174826790099022\t- MSE_ant - MSE: 0.00035761936986908327\n",
      "EPOCH: 74\t- MSE: 0.1814216098085221\t- MSE_ant - MSE: 0.00032665809246812394\n",
      "EPOCH: 75\t- MSE: 0.1811237459574215\t- MSE_ant - MSE: 0.0002978638511005882\n",
      "EPOCH: 76\t- MSE: 0.18085264985291796\t- MSE_ant - MSE: 0.00027109610450354316\n",
      "EPOCH: 77\t- MSE: 0.18060642672542948\t- MSE_ant - MSE: 0.00024622312748848185\n",
      "EPOCH: 78\t- MSE: 0.18038330525887086\t- MSE_ant - MSE: 0.00022312146655861786\n",
      "EPOCH: 79\t- MSE: 0.1801816298299903\t- MSE_ant - MSE: 0.00020167542888055445\n",
      "EPOCH: 80\t- MSE: 0.17999985322741346\t- MSE_ant - MSE: 0.00018177660257684414\n",
      "EPOCH: 81\t- MSE: 0.17983652982098647\t- MSE_ant - MSE: 0.00016332340642699616\n",
      "EPOCH: 82\t- MSE: 0.17969030915380177\t- MSE_ant - MSE: 0.00014622066718469884\n",
      "EPOCH: 83\t- MSE: 0.17955992993098735\t- MSE_ant - MSE: 0.0001303792228144196\n",
      "EPOCH: 84\t- MSE: 0.17944421438090608\t- MSE_ant - MSE: 0.00011571555008127454\n",
      "EPOCH: 85\t- MSE: 0.1793420629659169\t- MSE_ant - MSE: 0.00010215141498917668\n",
      "EPOCH: 86\t- MSE: 0.17925244942123306\t- MSE_ant - MSE: 8.961354468384197e-05\n",
      "EPOCH: 87\t- MSE: 0.17917441610172768\t- MSE_ant - MSE: 7.803331950537173e-05\n",
      "EPOCH: 88\t- MSE: 0.17910706961777337\t- MSE_ant - MSE: 6.734648395431697e-05\n",
      "EPOCH: 89\t- MSE: 0.17904957674234648\t- MSE_ant - MSE: 5.749287542688997e-05\n",
      "EPOCH: 90\t- MSE: 0.17900116057272983\t- MSE_ant - MSE: 4.841616961664963e-05\n",
      "EPOCH: 91\t- MSE: 0.17896109693114615\t- MSE_ant - MSE: 4.006364158368192e-05\n",
      "EPOCH: 92\t- MSE: 0.17892871098963392\t- MSE_ant - MSE: 3.238594151222518e-05\n",
      "EPOCH: 93\t- MSE: 0.17890337410535845\t- MSE_ant - MSE: 2.5336884275473093e-05\n",
      "EPOCH: 94\t- MSE: 0.17888450085340346\t- MSE_ant - MSE: 1.8873251954987236e-05\n",
      "EPOCH: 95\t- MSE: 0.17887154624488313\t- MSE_ant - MSE: 1.2954608520326927e-05\n",
      "EPOCH: 96\t- MSE: 0.1788640031189516\t- MSE_ant - MSE: 7.5431259315417165e-06\n"
     ]
    }
   ],
   "source": [
    "#Instanciando e treinando a rede\n",
    "rede = Adaline(lr = 0.01, e = 1e-5)\n",
    "rede.train(x = x, d = d)"
   ]
  },
  {
   "cell_type": "code",
   "execution_count": 38,
   "id": "13a3e459",
   "metadata": {},
   "outputs": [
    {
     "data": {
      "text/plain": [
       "[1, -1, 1, 1, -1, 1]"
      ]
     },
     "execution_count": 38,
     "metadata": {},
     "output_type": "execute_result"
    }
   ],
   "source": [
    "# Entrando com novos valores para teste\n",
    "x_teste = np.array([[6, 2], [9, 3], [5, 6], [7, 3], [6, 7], [1, 6]])\n",
    "\n",
    "teste_resultado = rede.test(x_teste)\n",
    "teste_resultado"
   ]
  },
  {
   "cell_type": "code",
   "execution_count": 39,
   "id": "6a329ded",
   "metadata": {},
   "outputs": [
    {
     "data": {
      "image/png": "[encoded data removed]",
      "text/plain": [
       "<Figure size 864x576 with 1 Axes>"
      ]
     },
     "metadata": {
      "needs_background": "light"
     },
     "output_type": "display_data"
    }
   ],
   "source": [
    "plt.figure(figsize=(12,8))\n",
    "plt.title(\"Data points + Predicted\")\n",
    "plt.scatter(x[:, 0], x[:, 1], c = d, cmap = 'bwr')\n",
    "plt.scatter(x_teste[:, 0], x_teste[:, 1], c = teste_resultado, cmap = 'bwr', marker = \"*\", s=250)\n",
    "plt.show()"
   ]
  },
  {
   "cell_type": "code",
   "execution_count": 44,
   "id": "c1744356",
   "metadata": {},
   "outputs": [
    {
     "data": {
      "image/png": "[encoded data removed]",
      "text/plain": [
       "<Figure size 576x360 with 1 Axes>"
      ]
     },
     "metadata": {
      "needs_background": "light"
     },
     "output_type": "display_data"
    }
   ],
   "source": [
    "plt.figure(figsize=(8,5))\n",
    "plt.title(\"Error\")\n",
    "plt.plot(rede.total_mse)\n",
    "plt.show()"
   ]
  },
  {
   "cell_type": "code",
   "execution_count": null,
   "id": "e414d8a2",
   "metadata": {},
   "outputs": [],
   "source": []
  }
 ],
 "metadata": {
  "kernelspec": {
   "display_name": "Python 3 (ipykernel)",
   "language": "python",
   "name": "python3"
  },
  "language_info": {
   "codemirror_mode": {
    "name": "ipython",
    "version": 3
   },
   "file_extension": ".py",
   "mimetype": "text/x-python",
   "name": "python",
   "nbconvert_exporter": "python",
   "pygments_lexer": "ipython3",
   "version": "3.9.13"
  }
 },
 "nbformat": 4,
 "nbformat_minor": 5
}
